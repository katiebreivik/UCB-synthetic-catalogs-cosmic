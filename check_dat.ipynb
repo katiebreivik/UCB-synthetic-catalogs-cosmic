{
 "cells": [
  {
   "cell_type": "code",
   "execution_count": null,
   "id": "ce8a4c50-7efb-482c-ae6e-1a2397e339b2",
   "metadata": {},
   "outputs": [],
   "source": [
    "import numpy as np"
   ]
  },
  {
   "cell_type": "code",
   "execution_count": null,
   "id": "df531d90-4849-4b4f-b315-fda563499a0a",
   "metadata": {},
   "outputs": [],
   "source": [
    "dat = np.genfromtxt('single_tracks_cosmic_winds_off_0.0002.csv', delimiter = ',', skip_header=2)"
   ]
  },
  {
   "cell_type": "code",
   "execution_count": null,
   "id": "0daa5a9b-b8ad-4f58-bb90-0d46bee42a30",
   "metadata": {},
   "outputs": [],
   "source": [
    "dat"
   ]
  },
  {
   "cell_type": "code",
   "execution_count": null,
   "id": "623735c7-2f34-444f-8dcc-d18d413da510",
   "metadata": {},
   "outputs": [],
   "source": [
    "np.shape(dat)"
   ]
  },
  {
   "cell_type": "code",
   "execution_count": null,
   "id": "a8e42d8e-7052-4dc3-aa98-91682c20ca9e",
   "metadata": {},
   "outputs": [],
   "source": []
  }
 ],
 "metadata": {
  "kernelspec": {
   "display_name": "Python 3 (ipykernel)",
   "language": "python",
   "name": "python3"
  },
  "language_info": {
   "codemirror_mode": {
    "name": "ipython",
    "version": 3
   },
   "file_extension": ".py",
   "mimetype": "text/x-python",
   "name": "python",
   "nbconvert_exporter": "python",
   "pygments_lexer": "ipython3",
   "version": "3.10.4"
  }
 },
 "nbformat": 4,
 "nbformat_minor": 5
}
