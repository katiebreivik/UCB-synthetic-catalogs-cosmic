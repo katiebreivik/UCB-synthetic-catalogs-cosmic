{
 "cells": [
  {
   "cell_type": "code",
   "execution_count": 1,
   "id": "f38a4b17-2577-432c-9532-8f3e736c9b2d",
   "metadata": {},
   "outputs": [],
   "source": [
    "import numpy as np\n",
    "import matplotlib.pyplot as plt"
   ]
  },
  {
   "cell_type": "code",
   "execution_count": 2,
   "id": "ac9d802c-7f30-4372-b4aa-0e611a3453db",
   "metadata": {},
   "outputs": [],
   "source": [
    "mass = 10**np.linspace(np.log10(0.5), np.log10(12.0), 100)\n",
    "porb = 10**np.linspace(np.log10(1), np.log10(10000), 100)"
   ]
  },
  {
   "cell_type": "code",
   "execution_count": 3,
   "id": "ce28a0cc-8caf-4369-b218-abb1430a489d",
   "metadata": {},
   "outputs": [],
   "source": [
    "dat = []\n",
    "for m1 in mass:\n",
    "    for m2 in mass:\n",
    "        for p in porb:\n",
    "            dat.append([m1, m2, p])"
   ]
  },
  {
   "cell_type": "code",
   "execution_count": 4,
   "id": "c13f0b94-d316-4c51-888a-16b78032610b",
   "metadata": {},
   "outputs": [],
   "source": [
    "dat = np.vstack(dat)"
   ]
  },
  {
   "cell_type": "code",
   "execution_count": 5,
   "id": "62a94f27-41fa-4114-82a8-f828ccadd72b",
   "metadata": {},
   "outputs": [
    {
     "data": {
      "text/plain": [
       "(1000000, 3)"
      ]
     },
     "execution_count": 5,
     "metadata": {},
     "output_type": "execute_result"
    }
   ],
   "source": [
    "np.shape(dat)"
   ]
  },
  {
   "cell_type": "code",
   "execution_count": 6,
   "id": "286d24ba-ddc6-453c-ad43-222dd4b06fb0",
   "metadata": {},
   "outputs": [
    {
     "data": {
      "text/plain": [
       "array([[5.00000000e-01, 5.00000000e-01, 1.00000000e+00],\n",
       "       [5.00000000e-01, 5.00000000e-01, 1.09749877e+00],\n",
       "       [5.00000000e-01, 5.00000000e-01, 1.20450354e+00],\n",
       "       ...,\n",
       "       [1.20000000e+01, 1.20000000e+01, 8.30217568e+03],\n",
       "       [1.20000000e+01, 1.20000000e+01, 9.11162756e+03],\n",
       "       [1.20000000e+01, 1.20000000e+01, 1.00000000e+04]])"
      ]
     },
     "execution_count": 6,
     "metadata": {},
     "output_type": "execute_result"
    }
   ],
   "source": [
    "dat"
   ]
  },
  {
   "cell_type": "code",
   "execution_count": 7,
   "id": "a3b7cf8f-cc6f-4753-bd61-adadb7d9cb0c",
   "metadata": {},
   "outputs": [],
   "source": [
    "ind_save,  = np.where(dat[:,0] > dat[:,1])"
   ]
  },
  {
   "cell_type": "code",
   "execution_count": 8,
   "id": "9176d872-9c9d-47eb-b98b-7399adf8eb2c",
   "metadata": {},
   "outputs": [
    {
     "data": {
      "text/plain": [
       "495000"
      ]
     },
     "execution_count": 8,
     "metadata": {},
     "output_type": "execute_result"
    }
   ],
   "source": [
    "len(ind_save)"
   ]
  },
  {
   "cell_type": "code",
   "execution_count": 9,
   "id": "f46bc592-9af7-468f-9c58-97f3d6e96124",
   "metadata": {},
   "outputs": [],
   "source": [
    "dat = dat[ind_save]"
   ]
  },
  {
   "cell_type": "code",
   "execution_count": 10,
   "id": "447d3db5-0ab1-47a8-a194-9dfee3ed973b",
   "metadata": {},
   "outputs": [
    {
     "data": {
      "text/plain": [
       "<matplotlib.collections.PathCollection at 0x7fcc822e5720>"
      ]
     },
     "execution_count": 10,
     "metadata": {},
     "output_type": "execute_result"
    },
    {
     "data": {
      "image/png": "[encoded data removed]",
      "text/plain": [
       "<Figure size 640x480 with 1 Axes>"
      ]
     },
     "metadata": {},
     "output_type": "display_data"
    }
   ],
   "source": [
    "plt.scatter(dat[:,0], dat[:,1])"
   ]
  },
  {
   "cell_type": "code",
   "execution_count": 11,
   "id": "81b4959b-8708-4a56-b3e5-f634676c2308",
   "metadata": {},
   "outputs": [],
   "source": [
    "from cosmic import utils    "
   ]
  },
  {
   "cell_type": "code",
   "execution_count": 12,
   "id": "2fdd204e-d347-4055-a7c8-91d710d4b1d8",
   "metadata": {},
   "outputs": [],
   "source": [
    "a = utils.a_from_p(m1=dat[:,0], m2=dat[:,1], p=dat[:,2])"
   ]
  },
  {
   "cell_type": "code",
   "execution_count": 13,
   "id": "89e19ef7-0e93-4648-9cb1-41ef43d7e2e5",
   "metadata": {},
   "outputs": [],
   "source": [
    "def r_rl(m1, m2, a):\n",
    "    q=m1/m2\n",
    "    r = 0.49 * q**(2/3) / (0.6 * q**(2/3) + np.log(1 + q**(1/3)))\n",
    "    \n",
    "    return r * a\n",
    "\n",
    "def get_roche_overflow(m1, m2, a, rad_interp):\n",
    "    \n",
    "    R_rl = r_rl(m1, m2, a)\n",
    "    r_1 = rad_interp(m1)\n",
    "    \n",
    "    ind_overflow, = np.where(r_1 > R_rl)\n",
    "    return ind_overflow"
   ]
  },
  {
   "cell_type": "code",
   "execution_count": 14,
   "id": "48573a8c-80c3-48af-a8b5-a5e5ba076b6d",
   "metadata": {},
   "outputs": [],
   "source": [
    "from cosmic.sample.initialbinarytable import InitialBinaryTable\n",
    "\n",
    "from cosmic.evolve import Evolve"
   ]
  },
  {
   "cell_type": "code",
   "execution_count": 15,
   "id": "f6a6ff67-c3a6-4edf-aa8f-e14600d733d2",
   "metadata": {},
   "outputs": [],
   "source": [
    "I = InitialBinaryTable.InitialBinaries(m1=mass, m2=np.zeros(100), porb=np.zeros(100), ecc=np.zeros(100), tphysf=1.0 * np.ones(100), \n",
    "                                       kstar1=np.ones(100) * 1, kstar2=np.ones(100) * 0, metallicity=np.ones(100) * 0.02)\n"
   ]
  },
  {
   "cell_type": "code",
   "execution_count": 16,
   "id": "df8c3230-1df7-490e-971d-55d760604fc7",
   "metadata": {},
   "outputs": [],
   "source": [
    "BSEDict = {'xi': 1.0, 'bhflag': 1, 'neta': 0.5, 'windflag': 3, 'wdflag': 1, 'alpha1': 1.0, 'pts1': 0.001, 'pts3': 0.02, 'pts2': 0.01, 'epsnov': 0.001, 'hewind': 0.5, 'ck': 1000, 'bwind': 0.0, 'lambdaf': 0.0, 'mxns': 3.0, 'beta': -1.0, 'tflag': 1, 'acc2': 1.5, 'grflag' : 1, 'remnantflag': 4, 'ceflag': 0, 'eddfac': 1.0, 'ifflag': 0, 'bconst': 3000, 'sigma': 265.0, 'gamma': -2.0, 'pisn': 45.0, 'natal_kick_array' : [[-100.0,-100.0,-100.0,-100.0,0.0], [-100.0,-100.0,-100.0,-100.0,0.0]], 'bhsigmafrac' : 1.0, 'polar_kick_angle' : 90, 'qcrit_array' : [0.0,0.0,0.0,0.0,0.0,0.0,0.0,0.0,0.0,0.0,0.0,0.0,0.0,0.0,0.0,0.0], 'cekickflag' : 2, 'cehestarflag' : 0, 'cemergeflag' : 0, 'ecsn' : 2.25, 'ecsn_mlow' : 1.6, 'aic' : 1, 'ussn' : 0, 'sigmadiv' :-20.0, 'qcflag' : 1, 'eddlimflag' : 0, 'fprimc_array' : [2.0/21.0,2.0/21.0,2.0/21.0,2.0/21.0,2.0/21.0,2.0/21.0,2.0/21.0,2.0/21.0,2.0/21.0,2.0/21.0,2.0/21.0,2.0/21.0,2.0/21.0,2.0/21.0,2.0/21.0,2.0/21.0], 'bhspinflag' : 0, 'bhspinmag' : 0.0, 'rejuv_fac' : 1.0, 'rejuvflag' : 0, 'htpmb' : 1, 'ST_cr' : 1, 'ST_tide' : 1, 'bdecayfac' : 1, 'rembar_massloss' : 0.5, 'kickflag' : 0, 'zsun' : 0.014, 'bhms_coll_flag' : 0, 'don_lim' : -1, 'acc_lim' : -1}\n"
   ]
  },
  {
   "cell_type": "code",
   "execution_count": 17,
   "id": "cf10af64-258e-44b3-9910-d80508844b82",
   "metadata": {},
   "outputs": [],
   "source": [
    "bpp, bcm, initC, kick_info = Evolve.evolve(initialbinarytable=I, BSEDict=BSEDict)"
   ]
  },
  {
   "cell_type": "code",
   "execution_count": 18,
   "id": "503c49a2-4ec1-4e5f-8b69-5fd76cecbbe7",
   "metadata": {},
   "outputs": [],
   "source": [
    "rad= bpp.groupby('bin_num').first().rad_1.values"
   ]
  },
  {
   "cell_type": "code",
   "execution_count": null,
   "id": "64969275-bf8c-44a5-a999-78610553b58d",
   "metadata": {},
   "outputs": [],
   "source": [
    "from scipy.interpolate import interp1d"
   ]
  },
  {
   "cell_type": "code",
   "execution_count": null,
   "id": "e1c4b59c-8f01-4efe-8666-beb26b667827",
   "metadata": {},
   "outputs": [],
   "source": [
    "rad_interp = interp1d(mass, rad)"
   ]
  },
  {
   "cell_type": "code",
   "execution_count": 21,
   "id": "dd71a737-1ae1-4f99-a6c3-e0a789d0a5cb",
   "metadata": {},
   "outputs": [],
   "source": [
    "ind_RRLO = get_roche_overflow(m1=dat[:,0], m2=dat[:,1], a=2, rad_interp=rad_interp)"
   ]
  },
  {
   "cell_type": "code",
   "execution_count": 22,
   "id": "6c5dc7c9-3650-4d72-a001-7f899ffa7a96",
   "metadata": {},
   "outputs": [],
   "source": [
    "dat = dat[ind_RRLO, :]"
   ]
  },
  {
   "cell_type": "code",
   "execution_count": 23,
   "id": "bb808705-d755-4d94-b8ef-a5780c657d6c",
   "metadata": {},
   "outputs": [
    {
     "data": {
      "text/plain": [
       "(477100, 3)"
      ]
     },
     "execution_count": 23,
     "metadata": {},
     "output_type": "execute_result"
    }
   ],
   "source": [
    "np.shape(dat)"
   ]
  },
  {
   "cell_type": "code",
   "execution_count": 24,
   "id": "e4fecec1-5c1c-4df0-9edf-f6f1c1434050",
   "metadata": {},
   "outputs": [],
   "source": [
    "np.savetxt('initial_grid_parameters.txt', dat, delimiter = ',', header='mass_1 [Msun], mass_2 [Msun], p_orb [day]')"
   ]
  },
  {
   "cell_type": "code",
   "execution_count": 25,
   "id": "595b4baa-3d0e-4d84-a860-40d3862944de",
   "metadata": {},
   "outputs": [],
   "source": [
    "from cosmic.sample.initialbinarytable import InitialBinaryTable\n",
    "final_kstar = range(0,15)\n"
   ]
  },
  {
   "cell_type": "code",
   "execution_count": 44,
   "id": "dcf9e339-f1eb-4227-a647-d1de3025f7bf",
   "metadata": {},
   "outputs": [],
   "source": [
    "InitialBinaries, mass_singles, mass_binaries, n_singles, n_binaries = InitialBinaryTable.sampler(\n",
    "    'independent', final_kstar, final_kstar, binfrac_model=1.0, primary_model='kroupa01', \n",
    "    ecc_model='sana12', porb_model='log_uniform', m2_min=0.08, SF_start=1.0, \n",
    "    SF_duration=0.0, met=0.02, size=1000000)\n"
   ]
  },
  {
   "cell_type": "code",
   "execution_count": 45,
   "id": "947d5989-db62-4d68-b6af-f25ad13a2f81",
   "metadata": {},
   "outputs": [],
   "source": [
    "InitialBinaries['ecc'] = 0.0"
   ]
  },
  {
   "cell_type": "code",
   "execution_count": 46,
   "id": "ab287804-0f43-4b7b-b7b4-671207f3ec14",
   "metadata": {},
   "outputs": [],
   "source": [
    "primary_lower_bound = 0.7\n",
    "primary_upper_bound = 12"
   ]
  },
  {
   "cell_type": "code",
   "execution_count": 47,
   "id": "deb86ecf-79ff-4064-8b7d-00f0b64cc4e1",
   "metadata": {},
   "outputs": [],
   "source": [
    "InitialBinaries = InitialBinaries.loc[(InitialBinaries.mass_1 < primary_upper_bound) & (InitialBinaries.mass_1 > primary_lower_bound)]"
   ]
  },
  {
   "cell_type": "code",
   "execution_count": 65,
   "id": "0a998c05-8f78-4dd4-a775-9ad4d0281d29",
   "metadata": {},
   "outputs": [],
   "source": [
    "InitialBinaries[['mass_1', 'mass_1', 'porb']].to_csv('initial_MC_sample.txt', sep=',', header=True, index=False)"
   ]
  },
  {
   "cell_type": "code",
   "execution_count": 48,
   "id": "2693cc04-f060-4328-9378-ae436b6a2ba9",
   "metadata": {},
   "outputs": [
    {
     "data": {
      "text/plain": [
       "151724"
      ]
     },
     "execution_count": 48,
     "metadata": {},
     "output_type": "execute_result"
    }
   ],
   "source": [
    "len(InitialBinaries)"
   ]
  },
  {
   "cell_type": "code",
   "execution_count": null,
   "id": "92904aa4-1507-46c3-b38f-33abc90c4fbf",
   "metadata": {},
   "outputs": [],
   "source": []
  },
  {
   "cell_type": "code",
   "execution_count": 49,
   "id": "eaa4c423-248b-497b-9a65-7da998bc8dc1",
   "metadata": {},
   "outputs": [],
   "source": [
    "bpp, bcm, initC, kick_info = Evolve.evolve(initialbinarytable=InitialBinaries, BSEDict=BSEDict)"
   ]
  },
  {
   "cell_type": "code",
   "execution_count": 59,
   "id": "e955ba17-59ba-46d1-a603-2ecdc02ad677",
   "metadata": {},
   "outputs": [
    {
     "name": "stdout",
     "output_type": "stream",
     "text": [
      "[  216.58029469  2567.51239557    99.51711912 ...  4151.52643051\n",
      " 14453.46751667    48.35620629]\n"
     ]
    }
   ],
   "source": [
    "sep = bpp.groupby('bin_num').first().sep.values\n",
    "print(sep)"
   ]
  },
  {
   "cell_type": "code",
   "execution_count": 60,
   "id": "4c3d38f2-e70f-436f-8c03-8d804d6abc3a",
   "metadata": {},
   "outputs": [
    {
     "name": "stdout",
     "output_type": "stream",
     "text": [
      "0           105.825822\n",
      "10         1256.630683\n",
      "16           46.429102\n",
      "23         2756.498356\n",
      "37         3811.405379\n",
      "              ...     \n",
      "999971    45936.163461\n",
      "999974        6.484688\n",
      "999986     2040.814279\n",
      "999988     6558.380653\n",
      "999991       19.938918\n",
      "Length: 151724, dtype: float64\n"
     ]
    }
   ],
   "source": [
    "RRLO_1 = r_rl(initC.mass_1, initC.mass_2, sep)\n",
    "print(RRLO_1)   "
   ]
  },
  {
   "cell_type": "code",
   "execution_count": 61,
   "id": "2a47ece4-72df-4349-9219-81038ba69004",
   "metadata": {},
   "outputs": [
    {
     "data": {
      "text/plain": [
       "(array([], dtype=int64),)"
      ]
     },
     "execution_count": 61,
     "metadata": {},
     "output_type": "execute_result"
    }
   ],
   "source": [
    "np.where(initC.rad_1 > RRLO_1)"
   ]
  },
  {
   "cell_type": "code",
   "execution_count": null,
   "id": "10445e76-eabe-435d-9f8d-c2a8a188f1fb",
   "metadata": {},
   "outputs": [],
   "source": [
    "ind_RRLO = get_roche_overflow(m1=initC.mass_1, m2=initC.mass_2, a=initC.sep, rad_interp=rad_interp)"
   ]
  }
 ],
 "metadata": {
  "kernelspec": {
   "display_name": "Python 3 (ipykernel)",
   "language": "python",
   "name": "python3"
  },
  "language_info": {
   "codemirror_mode": {
    "name": "ipython",
    "version": 3
   },
   "file_extension": ".py",
   "mimetype": "text/x-python",
   "name": "python",
   "nbconvert_exporter": "python",
   "pygments_lexer": "ipython3",
   "version": "3.10.4"
  }
 },
 "nbformat": 4,
 "nbformat_minor": 5
}
